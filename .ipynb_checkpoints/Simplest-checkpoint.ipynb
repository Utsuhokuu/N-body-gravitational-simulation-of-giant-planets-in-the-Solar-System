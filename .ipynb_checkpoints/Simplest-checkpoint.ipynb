{
 "cells": [
  {
   "cell_type": "markdown",
   "id": "5f752695",
   "metadata": {},
   "source": [
    "We first create a REBOUND simulation, then we add two particles and integrate the system for 100 time units."
   ]
  },
  {
   "cell_type": "code",
   "execution_count": 1,
   "id": "9719aa14",
   "metadata": {},
   "outputs": [],
   "source": [
    "import rebound\n",
    "sim = rebound.Simulation()"
   ]
  },
  {
   "cell_type": "code",
   "execution_count": 2,
   "id": "33cc12d9",
   "metadata": {},
   "outputs": [],
   "source": [
    "sim.add(m=1.)"
   ]
  },
  {
   "cell_type": "code",
   "execution_count": null,
   "id": "2bbd661b",
   "metadata": {},
   "outputs": [],
   "source": []
  }
 ],
 "metadata": {
  "kernelspec": {
   "display_name": "Python 3",
   "language": "python",
   "name": "python3"
  },
  "language_info": {
   "codemirror_mode": {
    "name": "ipython",
    "version": 3
   },
   "file_extension": ".py",
   "mimetype": "text/x-python",
   "name": "python",
   "nbconvert_exporter": "python",
   "pygments_lexer": "ipython3",
   "version": "3.6.9"
  }
 },
 "nbformat": 4,
 "nbformat_minor": 5
}
