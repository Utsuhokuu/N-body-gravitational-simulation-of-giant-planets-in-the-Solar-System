{
 "cells": [
  {
   "cell_type": "markdown",
   "id": "5f752695",
   "metadata": {},
   "source": [
    "We first create a REBOUND simulation, then we add two particles(Jupiter and Saturn) and integrate the system for 100 time units."
   ]
  },
  {
   "cell_type": "code",
   "execution_count": 2,
   "id": "9719aa14",
   "metadata": {},
   "outputs": [],
   "source": [
    "import rebound\n",
    "sim = rebound.Simulation()"
   ]
  },
  {
   "cell_type": "code",
   "execution_count": 3,
   "id": "33cc12d9",
   "metadata": {},
   "outputs": [],
   "source": [
    "sim.add(hash=\"sun\", m=1., x=0.002238658888973114, y=0.005712997542647009, z=-0.00013054408760144158, vx=-0.0003019172530227435, vy=0.0003204769648585501, vz=7.060746679333286e-06)\n",
    "sim.add(hash=\"jupiter\", m=0.0009547919152112404, x=-4.596576387734398, y=-2.903060527436125, z=0.11485275726871093, vx=0.22910198973165188, vy=-0.35005643910897744, vz=-0.003671111125676929)\n",
    "sim.add(hash=\"saturn\", m=0.0002858856727222417, x=-0.36854178651865627, y=-10.048571334269788, z=0.18938292051146408, vx=0.3062875233912964, vy=-0.012929578054438718, vz=-0.011965769853988187)"
   ]
  },
  {
   "cell_type": "code",
   "execution_count": 4,
   "id": "2bbd661b",
   "metadata": {},
   "outputs": [],
   "source": [
    "sim.integrate(100)"
   ]
  },
  {
   "cell_type": "code",
   "execution_count": 5,
   "id": "c11d7bf0",
   "metadata": {},
   "outputs": [
    {
     "name": "stdout",
     "output_type": "stream",
     "text": [
      "-0.0055103360011024794 -0.00205996773130875 0.00015403869871585403\n",
      "4.479074343055942 -2.229994580839996 -0.09091443786193867\n",
      "-2.038069776919525 8.788608855341948 -0.07170817246044325\n"
     ]
    }
   ],
   "source": [
    "#  输出在100个时间单位的积分后三个粒子的位置参数\n",
    "for i in range(0, sim.N):\n",
    "    p = sim.particles[i]\n",
    "    print(p.x, p.y, p.z)"
   ]
  },
  {
   "cell_type": "code",
   "execution_count": 6,
   "id": "c0ea3e56",
   "metadata": {},
   "outputs": [
    {
     "name": "stdout",
     "output_type": "stream",
     "text": [
      "5.20273927241573 0.04805908904852771 5.572204810439386\n",
      "9.530112422685773 0.05411881384083361 0.1921286179939825\n"
     ]
    }
   ],
   "source": [
    "primary = sim.particles[0]\n",
    "\n",
    "# 输出在100个时间单位的积分后两个粒子的半长轴、轨道偏心率以及真近点角参数\n",
    "for i in range(1, sim.N):\n",
    "    p = sim.particles[i]\n",
    "    o = p.calculate_orbit(primary=primary)\n",
    "    print(o.a, o.e, o.f)"
   ]
  },
  {
   "cell_type": "code",
   "execution_count": 7,
   "id": "f68e316f",
   "metadata": {},
   "outputs": [
    {
     "name": "stderr",
     "output_type": "stream",
     "text": [
      "Matplotlib created a temporary config/cache directory at /tmp/matplotlib-ta260xl5 because the default path (/home/fowdef/.cache/matplotlib) is not a writable directory; it is highly recommended to set the MPLCONFIGDIR environment variable to a writable directory, in particular to speed up the import of Matplotlib and to better support multiprocessing.\n"
     ]
    },
    {
     "data": {
      "image/png": "[encoded data removed]",
      "text/plain": [
       "<Figure size 360x360 with 1 Axes>"
      ]
     },
     "metadata": {
      "needs_background": "light"
     },
     "output_type": "display_data"
    }
   ],
   "source": [
    "# 输出图像\n",
    "%matplotlib inline\n",
    "fig = rebound.OrbitPlot(sim, unitlabel=\"[AU]\")"
   ]
  },
  {
   "cell_type": "code",
   "execution_count": null,
   "id": "a8d2d9b5",
   "metadata": {},
   "outputs": [],
   "source": []
  }
 ],
 "metadata": {
  "kernelspec": {
   "display_name": "Python 3",
   "language": "python",
   "name": "python3"
  },
  "language_info": {
   "codemirror_mode": {
    "name": "ipython",
    "version": 3
   },
   "file_extension": ".py",
   "mimetype": "text/x-python",
   "name": "python",
   "nbconvert_exporter": "python",
   "pygments_lexer": "ipython3",
   "version": "3.6.9"
  }
 },
 "nbformat": 4,
 "nbformat_minor": 5
}
