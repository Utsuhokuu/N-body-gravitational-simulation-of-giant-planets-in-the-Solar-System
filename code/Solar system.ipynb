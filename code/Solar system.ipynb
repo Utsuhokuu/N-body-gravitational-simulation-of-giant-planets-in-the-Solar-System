{
 "cells": [
  {
   "cell_type": "code",
   "execution_count": 2,
   "id": "3dfce29d",
   "metadata": {},
   "outputs": [],
   "source": [
    "import rebound\n",
    "sim = rebound.Simulation()"
   ]
  },
  {
   "cell_type": "code",
   "execution_count": 3,
   "id": "b2d31834",
   "metadata": {},
   "outputs": [],
   "source": [
    "# 天体信息导入\n",
    "\n",
    "    sim.add(hash=\"sun\", m=1., x=0.002238658888973114, y=0.005712997542647009, z=-0.00013054408760144158, vx=-0.0003019172530227435, vy=0.0003204769648585501, vz=7.060746679333286e-06)\n",
    "    sim.add(hash=\"mercury\", m=1.6601141530543488e-07, x=-0.3626639813858808, y=-0.2287481406845884, z=0.014187047313435758, vx=0.5479410577155543, vy=-1.303561640292353, vz=-0.15683268057003216)\n",
    "    sim.add(hash=\"venus\", m=2.4478382877847715e-06, x=-0.6116324379544484, y=0.3771535310647135, z=0.04038881080718919, vx=-0.6138641942547381, vy=-1.0114141380381858, vz=0.02153542908461951)\n",
    "    sim.add(hash=\"earth\", m=3.040432648022642e-06, x=0.935973250615807, y=0.3566048742807413, z=-0.00014927966816914788, vx=-0.36840210646873534, vy=0.9328113566433728, vz=-3.0326930345750834e-05)\n",
    "    sim.add(hash=\"mars\", m=3.2271560375549977e-07, x=-1.5500631681775128, y=0.6082261826304037, z=0.050591678637020215, vx=-0.2641634125035031, vy=-0.6885519318471723, vz=-0.007952985478428978)\n",
    "    sim.add(hash=\"jupiter\", m=0.0009547919152112404, x=-4.596576387734398, y=-2.903060527436125, z=0.11485275726871093, vx=0.22910198973165188, vy=-0.35005643910897744, vz=-0.003671111125676929)\n",
    "    sim.add(hash=\"saturn\", m=0.0002858856727222417, x=-0.36854178651865627, y=-10.048571334269788, z=0.18938292051146408, vx=0.3062875233912964, vy=-0.012929578054438718, vz=-0.011965769853988187)\n",
    "    sim.add(hash=\"uranus\", m=4.36624373583127e-05, x=17.86494645491296, y=8.799793161270001, z=-0.19876152181377077, vx=-0.1027055150996221, vy=0.19445005625259199, vz=0.0020528541450354674)\n",
    "    sim.add(hash=\"neptune\", m=5.151383772628674e-05, x=28.611129428976056, y=-8.830397336238208, z=-0.47752805685261274, vx=0.05260270428175578, vy=0.17545413659645606, vz=-0.004825414060494209)"
   ]
  },
  {
   "cell_type": "code",
   "execution_count": 4,
   "id": "951228fc",
   "metadata": {},
   "outputs": [],
   "source": [
    "sun = sim.particles[\"sun\"]"
   ]
  },
  {
   "cell_type": "code",
   "execution_count": 5,
   "id": "3eb1f6cf",
   "metadata": {},
   "outputs": [],
   "source": [
    "sun.lastcollision = 0"
   ]
  },
  {
   "cell_type": "code",
   "execution_count": null,
   "id": "3e59bd94",
   "metadata": {},
   "outputs": [],
   "source": []
  }
 ],
 "metadata": {
  "kernelspec": {
   "display_name": "Python 3",
   "language": "python",
   "name": "python3"
  },
  "language_info": {
   "codemirror_mode": {
    "name": "ipython",
    "version": 3
   },
   "file_extension": ".py",
   "mimetype": "text/x-python",
   "name": "python",
   "nbconvert_exporter": "python",
   "pygments_lexer": "ipython3",
   "version": "3.6.9"
  }
 },
 "nbformat": 4,
 "nbformat_minor": 5
}
